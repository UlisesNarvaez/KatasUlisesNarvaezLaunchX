{
 "cells": [
  {
   "cell_type": "code",
   "execution_count": null,
   "metadata": {},
   "outputs": [],
   "source": []
  },
  {
   "cell_type": "markdown",
   "metadata": {},
   "source": [
    "# Módulo 3Katas"
   ]
  },
  {
   "cell_type": "markdown",
   "metadata": {},
   "source": [
    "## Problema 1"
   ]
  },
  {
   "cell_type": "code",
   "execution_count": 35,
   "metadata": {},
   "outputs": [
    {
     "name": "stdout",
     "output_type": "stream",
     "text": [
      "!PELIGRO¡ !Todos vamos a morir¡\n"
     ]
    }
   ],
   "source": [
    "asteroide = 49\n",
    "if asteroide >= 25:\n",
    "    print('!PELIGRO¡ !Todos vamos a morir¡')\n",
    "else:\n",
    "        print('Todo en orden')"
   ]
  },
  {
   "cell_type": "code",
   "execution_count": 46,
   "metadata": {},
   "outputs": [
    {
     "name": "stdout",
     "output_type": "stream",
     "text": [
      "!Mira al Cielo¡\n"
     ]
    }
   ],
   "source": [
    "asteroide = 21\n",
    "if asteroide >=20:\n",
    "    print('!Mira al Cielo¡')\n",
    "else:\n",
    "    print('Todo Normal')"
   ]
  },
  {
   "cell_type": "markdown",
   "metadata": {},
   "source": [
    "## Problema 2"
   ]
  },
  {
   "cell_type": "code",
   "execution_count": 43,
   "metadata": {},
   "outputs": [
    {
     "name": "stdout",
     "output_type": "stream",
     "text": [
      "!Mira al Cielo¡\n"
     ]
    }
   ],
   "source": [
    "asteroide = 21\n",
    "if asteroide > 20:\n",
    "    print('!Mira al Cielo¡')\n",
    "elif asteroide == 20:\n",
    "    print('!Mira al Cielo¡')\n",
    "else:\n",
    "    print('Todo Normal')"
   ]
  },
  {
   "cell_type": "markdown",
   "metadata": {},
   "source": [
    "## Problema 3"
   ]
  },
  {
   "cell_type": "code",
   "execution_count": 56,
   "metadata": {},
   "outputs": [
    {
     "name": "stdout",
     "output_type": "stream",
     "text": [
      "!Arrepientanse Pecadores¡\n"
     ]
    }
   ],
   "source": [
    "asteroide = 30\n",
    "tamaño = 80\n",
    "if asteroide >= 25 and tamaño >=50:\n",
    "    print(\"!Arrepientanse Pecadores¡\")\n",
    "elif asteroide < 25 and tamaño < 50:\n",
    "    print(\"Todo En Orden\")\n",
    "else: \n",
    "    print (\"Todo Normal\")"
   ]
  }
 ],
 "metadata": {
  "interpreter": {
   "hash": "c6f32360a340b6d393835b02d51ec497bcc908851917413f0226cd497650ccfb"
  },
  "kernelspec": {
   "display_name": "Python 3.9.10 64-bit (windows store)",
   "language": "python",
   "name": "python3"
  },
  "language_info": {
   "codemirror_mode": {
    "name": "ipython",
    "version": 3
   },
   "file_extension": ".py",
   "mimetype": "text/x-python",
   "name": "python",
   "nbconvert_exporter": "python",
   "pygments_lexer": "ipython3",
   "version": "3.9.10"
  },
  "orig_nbformat": 4
 },
 "nbformat": 4,
 "nbformat_minor": 2
}
